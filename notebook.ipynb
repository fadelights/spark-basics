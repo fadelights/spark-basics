{
 "cells": [
  {
   "cell_type": "code",
   "execution_count": 1,
   "metadata": {},
   "outputs": [],
   "source": [
    "spark.read.csv('./data/flights.csv', header=True).createOrReplaceTempView('flights')"
   ]
  },
  {
   "cell_type": "code",
   "execution_count": 2,
   "metadata": {},
   "outputs": [
    {
     "name": "stdout",
     "output_type": "stream",
     "text": [
      "+---+---+---+-------+------+---+----+------+--------+-----+\n",
      "|mon|dom|dow|carrier|flight|org|mile|depart|duration|delay|\n",
      "+---+---+---+-------+------+---+----+------+--------+-----+\n",
      "| 10| 10|  1|     OO|  5836|ORD| 157|  8.18|      51|   27|\n",
      "| 10|  2|  0|     US|  2144|LGA| 185| 21.00|      67|  -11|\n",
      "| 10| 14|  5|     UA|  1512|SFO| 651| 10.92|     120|  -13|\n",
      "| 10|  6|  4|     OH|  6707|JFK| 213| 18.67|     109|   27|\n",
      "| 10| 13|  4|     B6|  1087|JFK| 541| 21.67|     130|   51|\n",
      "| 10| 23|  0|     UA|   130|ORD| 137| 22.35|      56|  -30|\n",
      "| 10| 19|  3|     UA|  1153|SFO| 337|  6.25|      82|   -6|\n",
      "| 10|  8|  6|     OO|  5564|SFO|  86| 19.42|      43|   17|\n",
      "| 10|  7|  5|     WN|  2378|SJC| 386|  8.58|      85|   23|\n",
      "| 10| 13|  4|     OO|  5779|SFO| 412| 12.25|     113|   45|\n",
      "| 10| 12|  3|     AA|  1904|ORD|1197| 17.83|     180|   52|\n",
      "| 10| 10|  1|     AA|   753|LGA|1389| 14.25|     255|   35|\n",
      "| 10|  5|  3|     UA|  1568|ORD|1012| 18.18|     159|   77|\n",
      "| 10|  2|  0|     AA|   257|JFK|2248| 16.75|     360|   84|\n",
      "| 10|  4|  2|     AA|  2060|SMF|1431| 13.17|     200|  -23|\n",
      "| 10| 30|  0|     AA|   333|ORD| 258| 16.67|      70|   63|\n",
      "| 10| 23|  0|     B6|   377|LGA|1076| 13.42|     179|    9|\n",
      "| 10| 26|  3|     AA|  2218|SJC|1438| 10.92|     200|   25|\n",
      "| 10|  3|  1|     US|  2163|LGA| 214|  7.00|      75|   15|\n",
      "| 10| 12|  3|     OO|  6491|SMF| 373| 18.57|      90|  -18|\n",
      "+---+---+---+-------+------+---+----+------+--------+-----+\n",
      "only showing top 20 rows\n",
      "\n"
     ]
    }
   ],
   "source": [
    "spark.sql(\n",
    "    \"\"\"\n",
    "    SELECT *\n",
    "    FROM flights\n",
    "    WHERE mon = 10\n",
    "    \"\"\"\n",
    ").show()"
   ]
  },
  {
   "cell_type": "code",
   "execution_count": 3,
   "metadata": {},
   "outputs": [],
   "source": [
    "df = spark.read.csv(\"./data/flights.csv\", header=True)"
   ]
  },
  {
   "cell_type": "code",
   "execution_count": 4,
   "metadata": {},
   "outputs": [
    {
     "name": "stdout",
     "output_type": "stream",
     "text": [
      "+---+---+---+-------+------+---+----+------+--------+-----+\n",
      "|mon|dom|dow|carrier|flight|org|mile|depart|duration|delay|\n",
      "+---+---+---+-------+------+---+----+------+--------+-----+\n",
      "| 10| 10|  1|     OO|  5836|ORD| 157|  8.18|      51|   27|\n",
      "|  1|  4|  1|     OO|  5866|ORD| 466| 15.50|     102|   NA|\n",
      "| 11| 22|  1|     OO|  6016|ORD| 738|  7.17|     127|  -19|\n",
      "|  2| 14|  5|     B6|   199|JFK|2248| 21.17|     365|   60|\n",
      "|  5| 25|  3|     WN|  1675|SJC| 386| 12.92|      85|   22|\n",
      "|  3| 28|  1|     B6|   377|LGA|1076| 13.33|     182|   70|\n",
      "|  5| 28|  6|     B6|   904|ORD| 740|  9.58|     130|   47|\n",
      "|  1| 19|  2|     UA|   820|SFO| 679| 12.75|     123|  135|\n",
      "|  8|  5|  5|     US|  2175|LGA| 214| 13.00|      71|  -10|\n",
      "|  5| 27|  5|     AA|  1240|ORD|1197| 14.42|     195|  -11|\n",
      "|  8| 20|  6|     B6|   119|JFK|1182| 14.67|     198|   20|\n",
      "|  2|  3|  1|     AA|  1881|JFK|1090| 15.92|     200|   -9|\n",
      "|  8| 26|  5|     B6|    35|JFK|1028| 20.58|     193|  102|\n",
      "|  4|  9|  5|     AA|   336|ORD| 733| 20.50|     125|   32|\n",
      "|  3|  8|  2|     UA|   678|ORD| 733| 10.95|     129|   55|\n",
      "|  8| 10|  3|     OH|  6347|LGA| 292| 11.75|     102|    8|\n",
      "|  8| 14|  0|     UA|   624|ORD| 612| 17.92|     109|   57|\n",
      "|  4|  8|  4|     OH|  5585|JFK| 301| 13.25|      88|   23|\n",
      "|  1| 14|  4|     UA|  1524|SFO| 414| 14.87|      91|   27|\n",
      "|  1|  2|  6|     AA|  1341|ORD|1846|  7.50|     275|   26|\n",
      "+---+---+---+-------+------+---+----+------+--------+-----+\n",
      "only showing top 20 rows\n",
      "\n"
     ]
    }
   ],
   "source": [
    "df.show()"
   ]
  },
  {
   "cell_type": "code",
   "execution_count": null,
   "metadata": {},
   "outputs": [],
   "source": []
  }
 ],
 "metadata": {
  "kernelspec": {
   "display_name": "Python 3 (ipykernel)",
   "language": "python",
   "name": "python3"
  },
  "language_info": {
   "codemirror_mode": {
    "name": "ipython",
    "version": 3
   },
   "file_extension": ".py",
   "mimetype": "text/x-python",
   "name": "python",
   "nbconvert_exporter": "python",
   "pygments_lexer": "ipython3",
   "version": "3.8.10"
  }
 },
 "nbformat": 4,
 "nbformat_minor": 4
}
